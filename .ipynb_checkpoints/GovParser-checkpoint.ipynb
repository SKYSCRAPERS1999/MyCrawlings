{
 "cells": [
  {
   "cell_type": "code",
   "execution_count": null,
   "metadata": {
    "ExecuteTime": {
     "end_time": "2018-10-20T03:20:06.044592Z",
     "start_time": "2018-10-20T03:20:06.034782Z"
    }
   },
   "outputs": [],
   "source": [
    "import requests, re, time, pymysql, jieba\n",
    "import jieba.posseg as postag\n",
    "tables = [ 'wms', 'swb','nyj', 'zscqj', 'jbw', 'zjh', 'yjh', 'rmyh']\n",
    "lim = 10"
   ]
  },
  {
   "cell_type": "code",
   "execution_count": null,
   "metadata": {
    "ExecuteTime": {
     "end_time": "2018-10-20T03:20:07.344163Z",
     "start_time": "2018-10-20T03:20:07.312882Z"
    }
   },
   "outputs": [],
   "source": [
    "def get_sql(table = 'jbw', dec = 0):\n",
    "    month = time.strftime('%Y-%m', time.localtime(time.time() - 24 * 3600 * 30 * dec))\n",
    "    sql = \"SELECT title FROM gov.{} WHERE date >= '{}-01' and date <= '{}-31'\".format(table, month, month)\n",
    "    return sql\n",
    "\n",
    "def get_sentense_dict():\n",
    "    db = pymysql.connect(host='119.29.190.115', user='guest', password='njuacmicpc',\n",
    "                         port=3306, db='gov', write_timeout = 6, read_timeout = 6)\n",
    "    cursor = db.cursor()\n",
    "    dic_by_num = {}\n",
    "    for dec in range(lim):\n",
    "        dic_by_num[dec] = []\n",
    "        for table in tables:\n",
    "            sql = get_sql(table, dec)\n",
    "            try:\n",
    "                cursor.execute(sql)\n",
    "                db.commit()\n",
    "                for row in cursor.fetchall():\n",
    "                    if len(row) > 0:\n",
    "#                         print (row[0])\n",
    "                        dic_by_num[dec].append(row[0])\n",
    "            except Exception as err:\n",
    "                print(\"Error {}\".format(err))\n",
    "                time.sleep(5)\n",
    "    db.close()\n",
    "    return dic_by_num\n",
    "\n",
    "def aggregate_tables():\n",
    "    db = pymysql.connect(host='119.29.190.115', user='guest', password='njuacmicpc',\n",
    "                         port=3306, db='gov', write_timeout = 6, read_timeout = 6)\n",
    "    cursor = db.cursor()\n",
    "    \n",
    "    input_list = []\n",
    "    for table in tables:\n",
    "        sql = 'SELECT * FROM gov.{}'.format(table)\n",
    "        try:\n",
    "            cursor.execute(sql)\n",
    "            db.commit()\n",
    "            for row in cursor.fetchall():\n",
    "                if len(row) > 0:\n",
    "                    while len(row) < 4:\n",
    "                        row.append('')\n",
    "                    input_list.append({'pos': row[0], 'title': row[1], 'link': row[2], 'date': row[3], 'origin': table})\n",
    "        except Exception as err:\n",
    "            print(\"Error {}\".format(err))\n",
    "            time.sleep(5)\n",
    "    db.close()\n",
    "    \n",
    "    return input_list\n",
    "\n",
    "def insert_summary_table(input_list):\n",
    "    db = pymysql.connect(host='119.29.190.115', user='impulse', password='njuacmicpc',\n",
    "                         port=3306, db='gov', write_timeout = 6, read_timeout = 6)\n",
    "    cursor = db.cursor()\n",
    "    for dic in input_list:\n",
    "        try:\n",
    "            sql_insert(db=db,cursor=cursor,data=dic,table='summary')\n",
    "        except Exception as err:\n",
    "            print(\"Error {}\".format(err))\n",
    "            time.sleep(5)\n",
    "    db.close()\n",
    "\n",
    "def get_words(sentence_list):\n",
    "    words = []\n",
    "    jieba.enable_parallel(8)\n",
    "    for raw in sentence_list:\n",
    "        result = postag.cut(raw)\n",
    "        raw = [x.word for x in result if (len(x.word) > 1 and 'n' in x.flag)]\n",
    "        words += raw           \n",
    "    return words\n",
    "\n",
    "def get_word_count(lst, stop_words = None, re_stop_letter = None):\n",
    "    count = {}\n",
    "    for x in lst:\n",
    "        if ((stop_words == None or x not in stop_words) and \n",
    "           (re_stop_letter == None or re.search(re_stop_letter, x) == None)):\n",
    "            if x in count:\n",
    "                count[x] += 1\n",
    "            else:\n",
    "                count[x] = 1\n",
    "    return count\n",
    "\n",
    "def sql_insert(db, cursor, table, data):\n",
    "    keys = ', '.join(data.keys())\n",
    "    values = ', '.join(['%s'] * len(data))\n",
    "    sql = 'insert into {table}({keys}) values ({values}) on duplicate key update'.format(table=table, \n",
    "            keys=keys, values=values)\n",
    "    update = ','.join([\" {key} = %s\".format(key=key) for key in data])\n",
    "    sql += update\n",
    "    try:\n",
    "        if cursor.execute(sql, tuple(data.values())*2):\n",
    "            print('Successful')\n",
    "            db.commit()\n",
    "        else:\n",
    "            print ('Nothing to do')\n",
    "    except:\n",
    "        print ('Failed')\n",
    "        db.rollback()\n",
    "\n",
    "def insert_wordcnt(sentense_dict):\n",
    "    db = pymysql.connect(host='119.29.190.115', user='impulse', password='njuacmicpc',\n",
    "                         port=3306, db='gov', write_timeout = 6, read_timeout = 6)\n",
    "    cursor = db.cursor()\n",
    "    for dec in range(lim):\n",
    "        month = time.strftime('%Y-%m', time.localtime(time.time() - 24 * 3600 * 30 * dec))\n",
    "        word_counts = get_word_count(get_words(sentense_dict[dec]))\n",
    "        word_dict_list = [ {'word':x[0], 'month': month, 'tf': int(x[1])} for x in word_counts.items()]\n",
    "        try:\n",
    "            for dic in word_dict_list:\n",
    "#                 print (dic)\n",
    "                sql_insert(db=db,cursor=cursor,data=dic,table='word_tf')\n",
    "        except Exception as err:\n",
    "            print(\"Error {}\".format(err))\n",
    "            time.sleep(5)\n",
    "    \n",
    "    db.close()\n",
    "\n",
    "def insert_other_table(input_list, regex_dict):\n",
    "    db = pymysql.connect(host='119.29.190.115', user='impulse', password='njuacmicpc',\n",
    "                         port=3306, db='gov', write_timeout = 6, read_timeout = 6)\n",
    "    cursor = db.cursor()\n",
    "    table_list = ['TZGG','HYPX','ZCFB','ZCJD','ZFSJ','YWDD']\n",
    "    for dic in input_list:\n",
    "        tit = dic['title']\n",
    "        try:\n",
    "            is_inserted = False\n",
    "            for name in table_list[:-1]:\n",
    "                if tit != None and re.search(regex_dict[name], tit) != None:\n",
    "                    sql_insert(db=db,cursor=cursor,data=dic,table=name)\n",
    "                    is_inserted = True\n",
    "            if is_inserted == False or re.search(regex_dict[table_list[-1]], tit) != None:\n",
    "                sql_insert(db=db,cursor=cursor,data=dic,table=table_list[-1])\n",
    "        except Exception as err:\n",
    "            print(\"Error {}\".format(err))\n",
    "            time.sleep(5)\n",
    "    db.close()"
   ]
  },
  {
   "cell_type": "code",
   "execution_count": null,
   "metadata": {
    "ExecuteTime": {
     "end_time": "2018-10-20T03:20:16.001528Z",
     "start_time": "2018-10-20T03:20:15.985077Z"
    }
   },
   "outputs": [],
   "source": [
    "#通知公告(TZGG)：'通知|公告|号令|函|通报|公示|问卷'\n",
    "#会议培训(HYPX)：'培训|开班|学习|会议|会$|召开|的办法|的决定'\n",
    "#政策发布(ZCFB)：'发布|印发|决定|意见\n",
    "#政策解读(ZCJD)：'解读|谈|答'\n",
    "#政府数据(ZFSJ)：'年.*表$|报$|报告|月报|季报|年报$\n",
    "#要闻导读(YWDD)：'活动|开展' (以及前面未出现的所有)\n",
    "regex = dict()\n",
    "regex['TZGG'] = re.compile('通知|公告|号令|函|通报|公示|问卷')\n",
    "regex['HYPX'] = re.compile('培训|开班|学习|会议|会$|召开|的办法|的决定')\n",
    "regex['ZCFB'] = re.compile('发布|印发|决定|意见')\n",
    "regex['ZCJD'] = re.compile('解读|谈|答')\n",
    "regex['ZFSJ'] = re.compile('年.*表$|报$|报告|月报|季报|年报')\n",
    "regex['YWDD'] = re.compile('活动|开展')"
   ]
  },
  {
   "cell_type": "code",
   "execution_count": null,
   "metadata": {
    "ExecuteTime": {
     "end_time": "2018-10-20T03:24:42.590620Z",
     "start_time": "2018-10-20T03:20:17.332490Z"
    }
   },
   "outputs": [],
   "source": [
    "input_list = aggregate_tables()"
   ]
  },
  {
   "cell_type": "code",
   "execution_count": null,
   "metadata": {},
   "outputs": [],
   "source": [
    "insert_other_table(input_list, regex)"
   ]
  },
  {
   "cell_type": "code",
   "execution_count": null,
   "metadata": {
    "ExecuteTime": {
     "end_time": "2018-10-20T01:49:23.690195Z",
     "start_time": "2018-10-20T01:47:42.354695Z"
    }
   },
   "outputs": [],
   "source": [
    "insert_summary_table(input_list)"
   ]
  },
  {
   "cell_type": "code",
   "execution_count": null,
   "metadata": {
    "ExecuteTime": {
     "end_time": "2018-10-20T01:49:32.153071Z",
     "start_time": "2018-10-20T01:49:23.695117Z"
    }
   },
   "outputs": [],
   "source": [
    "sdict = get_sentense_dict()"
   ]
  },
  {
   "cell_type": "code",
   "execution_count": null,
   "metadata": {
    "ExecuteTime": {
     "end_time": "2018-10-20T01:54:10.882405Z",
     "start_time": "2018-10-20T01:49:32.161561Z"
    }
   },
   "outputs": [],
   "source": [
    "insert_wordcnt(sdict)"
   ]
  }
 ],
 "metadata": {
  "kernelspec": {
   "display_name": "Python 3",
   "language": "python",
   "name": "python3"
  },
  "language_info": {
   "codemirror_mode": {
    "name": "ipython",
    "version": 3
   },
   "file_extension": ".py",
   "mimetype": "text/x-python",
   "name": "python",
   "nbconvert_exporter": "python",
   "pygments_lexer": "ipython3",
   "version": "3.7.0"
  }
 },
 "nbformat": 4,
 "nbformat_minor": 2
}
