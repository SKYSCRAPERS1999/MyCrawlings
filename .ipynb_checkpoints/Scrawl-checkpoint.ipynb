{
 "cells": [
  {
   "cell_type": "code",
   "execution_count": 62,
   "metadata": {
    "ExecuteTime": {
     "end_time": "2018-08-03T04:42:47.837281Z",
     "start_time": "2018-08-03T04:42:47.834294Z"
    }
   },
   "outputs": [],
   "source": [
    "def request_view(response):\n",
    "    import webbrowser\n",
    "    request_url = response.url\n",
    "    base_url = '<head><base href=\"%s\">'%(request_url)\n",
    "    base_url = base_url.encode()\n",
    "    content = response.content.replace(b\"<head>\", base_url)\n",
    "    tem_html = open(\"tmp.html\", \"wb\")\n",
    "    tem_html.write(content)\n",
    "    tem_html.close()\n",
    "    webbrowser.open_new_tab(\"tmp.html\")"
   ]
  },
  {
   "cell_type": "code",
   "execution_count": null,
   "metadata": {},
   "outputs": [],
   "source": [
    "import requests\n",
    "response = requests.get(\"http://m.qiubaichengren.net/\")\n",
    "request_view(response)\n",
    "# print (response.status_code, response.content.decode())"
   ]
  },
  {
   "cell_type": "code",
   "execution_count": null,
   "metadata": {},
   "outputs": [],
   "source": [
    "from lxml import etree\n",
    "html = etree.HTML(response.content)\n",
    "# html.xpath(\"//div[@class='page']//a[contains(text(),'下一页')]/@href\")\n",
    "html.xpath(\"//li[@class='next']/i/a/@href\")\n",
    "# from bs4 import BeautifulSoup\n",
    "# soup = BeautifulSoup(response.content, 'html.parser')\n",
    "# print(soup.prettify())"
   ]
  },
  {
   "cell_type": "code",
   "execution_count": null,
   "metadata": {},
   "outputs": [],
   "source": [
    "import requests\n",
    "from time import sleep\n",
    "host = \"http://m.qiubaichengren.net/\"\n",
    "def test_all_links(url):\n",
    "    response = requests.get(url)\n",
    "    print(url, response.status_code)\n",
    "    from lxml import etree\n",
    "    html = etree.HTML(response.content)\n",
    "    links = html.xpath(\"//li[@class='next']/i/a/@href\")\n",
    "    if len(links) == 0:\n",
    "        pass\n",
    "    else:\n",
    "        sleep(1)\n",
    "        test_all_links(host + links[0])\n",
    "        \n",
    "test_all_links(\"http://m.qiubaichengren.net/\")"
   ]
  },
  {
   "cell_type": "code",
   "execution_count": 4,
   "metadata": {},
   "outputs": [
    {
     "name": "stdout",
     "output_type": "stream",
     "text": [
      "200\n",
      "ok1\n",
      "ok2\n",
      "['Impulse'] ['386333667@qq.com']\n"
     ]
    }
   ],
   "source": [
    "import requests\n",
    "from lxml import etree\n",
    "\n",
    "class Login(object):\n",
    "    def __init__(self):\n",
    "        self.headers = {\n",
    "            'Referer': 'https://github.com/',\n",
    "            'User-Agent': 'Mozilla/5.0 (Windows NT 10.0; WOW64) AppleWebKit/537.36 (KHTML, like Gecko) Chrome/57.0.2987.133 Safari/537.36',\n",
    "            'Host': 'github.com'\n",
    "        }\n",
    "        self.login_url = 'https://github.com/login'\n",
    "        self.post_url = 'https://github.com/session'\n",
    "        self.logined_url = 'https://github.com/settings/profile'\n",
    "        self.session = requests.Session()\n",
    "\n",
    "    def token(self):\n",
    "        response = self.session.get(self.login_url, headers = self.headers)\n",
    "        selector = etree.HTML(response.text)\n",
    "        token = selector.xpath('//*[@id=\"login\"]/form/input[2]/@value')\n",
    "        return token\n",
    "    \n",
    "    def login(self, email, password):\n",
    "        post_data = {\n",
    "            'commit': 'Sign in',\n",
    "            'utf8': '✓',\n",
    "            'authenticity_token': self.token(),\n",
    "            'login': email,\n",
    "            'password': password\n",
    "        }\n",
    "        response = self.session.post(self.post_url, data=post_data, headers=self.headers)\n",
    "        print (response.status_code)\n",
    "        if response.status_code == 200:\n",
    "            print ('ok1')\n",
    "            self.dynamics(response.text)\n",
    "        \n",
    "        response = self.session.get(self.logined_url, headers=self.headers)\n",
    "        if response.status_code == 200:\n",
    "            print ('ok2')\n",
    "            self.profile(response.text)\n",
    "            \n",
    "    def dynamics(self, html):\n",
    "        selector = etree.HTML(html)\n",
    "        dynamics = selector.xpath('//div[contains(@class, \"news\")]//div[contains(@class, \"alert\")]')\n",
    "        for item in dynamics:\n",
    "            dynamic = ' '.join(item.xpath('.//div[@class=\"title\"]//text()')).strip()\n",
    "            print(dynamic)\n",
    "    \n",
    "    def profile(self, html):\n",
    "        selector = etree.HTML(html)\n",
    "        name = selector.xpath('//input[@id=\"user_profile_name\"]/@value')\n",
    "        email = selector.xpath('//select[@id=\"user_profile_email\"]/option[@value!=\"\"]/text()')\n",
    "        print(name, email)\n",
    "        \n",
    "\n",
    "if __name__ == \"__main__\":\n",
    "    login = Login()\n",
    "    login.login(email='386333667@qq.com', password='zhzh995=')"
   ]
  },
  {
   "cell_type": "code",
   "execution_count": 2,
   "metadata": {},
   "outputs": [
    {
     "name": "stdout",
     "output_type": "stream",
     "text": [
      "Impulse ['386333667@qq.com']\n"
     ]
    }
   ],
   "source": [
    "import requests\n",
    "from lxml import etree\n",
    "\n",
    "class Login(object):\n",
    "    def __init__(self):\n",
    "        self.headers = {\n",
    "            'Referer': 'https://github.com/',\n",
    "            'User-Agent': 'Mozilla/5.0 (Windows NT 10.0; WOW64) AppleWebKit/537.36 (KHTML, like Gecko) Chrome/57.0.2987.133 Safari/537.36',\n",
    "            'Host': 'github.com'\n",
    "        }\n",
    "        self.login_url = 'https://github.com/login'\n",
    "        self.post_url = 'https://github.com/session'\n",
    "        self.logined_url = 'https://github.com/settings/profile'\n",
    "        self.session = requests.Session()\n",
    "    \n",
    "    def token(self):\n",
    "        response = self.session.get(self.login_url, headers=self.headers)\n",
    "        selector = etree.HTML(response.text)\n",
    "        token = selector.xpath('//div//input[2]/@value')\n",
    "        return token\n",
    "    \n",
    "    def login(self, email, password):\n",
    "        post_data = {\n",
    "            'commit': 'Sign in',\n",
    "            'utf8': '✓',\n",
    "            'authenticity_token': self.token()[0],\n",
    "            'login': email,\n",
    "            'password': password\n",
    "        }\n",
    "        response = self.session.post(self.post_url, data=post_data, headers=self.headers)\n",
    "        if response.status_code == 200:\n",
    "            self.dynamics(response.text)\n",
    "        \n",
    "        response = self.session.get(self.logined_url, headers=self.headers)\n",
    "        if response.status_code == 200:\n",
    "            self.profile(response.text)\n",
    "    \n",
    "    def dynamics(self, html):\n",
    "        selector = etree.HTML(html)\n",
    "        dynamics = selector.xpath('//div[contains(@class, \"news\")]//div[contains(@class, \"alert\")]')\n",
    "        for item in dynamics:\n",
    "            dynamic = ' '.join(item.xpath('.//div[@class=\"title\"]//text()')).strip()\n",
    "            print(dynamic)\n",
    "    \n",
    "    def profile(self, html):\n",
    "        selector = etree.HTML(html)\n",
    "        name = selector.xpath('//input[@id=\"user_profile_name\"]/@value')[0]\n",
    "        email = selector.xpath('//select[@id=\"user_profile_email\"]/option[@value!=\"\"]/text()')\n",
    "        print(name, email)\n",
    "\n",
    "\n",
    "if __name__ == \"__main__\":\n",
    "    login = Login()\n",
    "    login.login(email='386333667@qq.com', password='zhzh995=')"
   ]
  },
  {
   "cell_type": "code",
   "execution_count": 5,
   "metadata": {},
   "outputs": [],
   "source": [
    "from selenium import webdriver\n",
    "browser = webdriver.Chrome()"
   ]
  },
  {
   "cell_type": "code",
   "execution_count": 1,
   "metadata": {
    "ExecuteTime": {
     "end_time": "2018-07-31T03:09:54.134701Z",
     "start_time": "2018-07-31T03:09:54.082773Z"
    }
   },
   "outputs": [
    {
     "ename": "TypeError",
     "evalue": "must be real number, not str",
     "output_type": "error",
     "traceback": [
      "\u001b[0;31m---------------------------------------------------------------------------\u001b[0m",
      "\u001b[0;31mTypeError\u001b[0m                                 Traceback (most recent call last)",
      "\u001b[0;32m<ipython-input-1-74f026c0e1b2>\u001b[0m in \u001b[0;36m<module>\u001b[0;34m()\u001b[0m\n\u001b[1;32m      1\u001b[0m \u001b[0;32mimport\u001b[0m \u001b[0mmath\u001b[0m\u001b[0;34m\u001b[0m\u001b[0m\n\u001b[0;32m----> 2\u001b[0;31m \u001b[0mmath\u001b[0m\u001b[0;34m.\u001b[0m\u001b[0misnan\u001b[0m\u001b[0;34m(\u001b[0m\u001b[0;34m'nan'\u001b[0m\u001b[0;34m)\u001b[0m\u001b[0;34m\u001b[0m\u001b[0m\n\u001b[0m",
      "\u001b[0;31mTypeError\u001b[0m: must be real number, not str"
     ]
    }
   ],
   "source": [
    "import math\n",
    "math.isnan('nan')"
   ]
  },
  {
   "cell_type": "code",
   "execution_count": 8,
   "metadata": {
    "ExecuteTime": {
     "end_time": "2018-07-31T04:02:51.076181Z",
     "start_time": "2018-07-31T04:02:51.073092Z"
    }
   },
   "outputs": [
    {
     "name": "stdout",
     "output_type": "stream",
     "text": [
      "-1.0\n"
     ]
    }
   ],
   "source": [
    "print(float(-1))"
   ]
  },
  {
   "cell_type": "code",
   "execution_count": 3,
   "metadata": {
    "ExecuteTime": {
     "end_time": "2018-08-01T05:17:07.147181Z",
     "start_time": "2018-08-01T05:17:07.135631Z"
    }
   },
   "outputs": [
    {
     "ename": "SyntaxError",
     "evalue": "invalid token (<string>, line 1)",
     "output_type": "error",
     "traceback": [
      "Traceback \u001b[0;36m(most recent call last)\u001b[0m:\n",
      "  File \u001b[1;32m\"/home/impulse/anaconda3/lib/python3.6/site-packages/IPython/core/interactiveshell.py\"\u001b[0m, line \u001b[1;32m2963\u001b[0m, in \u001b[1;35mrun_code\u001b[0m\n    exec(code_obj, self.user_global_ns, self.user_ns)\n",
      "\u001b[0;36m  File \u001b[0;32m\"<ipython-input-3-08a284da8a1e>\"\u001b[0;36m, line \u001b[0;32m4\u001b[0;36m, in \u001b[0;35m<module>\u001b[0;36m\u001b[0m\n\u001b[0;31m    x = eval(expr)\u001b[0m\n",
      "\u001b[0;36m  File \u001b[0;32m\"<string>\"\u001b[0;36m, line \u001b[0;32m1\u001b[0m\n\u001b[0;31m    8+969+5+7+42+098+006+867*27+54527217143732*8067065333*1240194+415+792648448+09970095715022+265+940324+718*00790821597+191537*2866+83*34*58+1*310461+921*491+5754403+41514*7334183+289217344+997246653+25\u001b[0m\n\u001b[0m                   ^\u001b[0m\n\u001b[0;31mSyntaxError\u001b[0m\u001b[0;31m:\u001b[0m invalid token\n"
     ]
    }
   ],
   "source": [
    "with open('Documents/Codeforces/Muli4/output.txt') as fp:\n",
    "    for expr in fp:\n",
    "        if (expr != 'IMPOSSIBLE' and expr != None):\n",
    "            x = eval(expr)\n",
    "            print (x)"
   ]
  },
  {
   "cell_type": "code",
   "execution_count": 1,
   "metadata": {
    "ExecuteTime": {
     "end_time": "2018-08-02T04:34:17.059260Z",
     "start_time": "2018-08-02T04:34:17.049010Z"
    }
   },
   "outputs": [],
   "source": [
    "ans = []"
   ]
  },
  {
   "cell_type": "code",
   "execution_count": null,
   "metadata": {
    "ExecuteTime": {
     "start_time": "2018-08-02T04:34:30.582Z"
    }
   },
   "outputs": [],
   "source": [
    "for i in range(100000):\n",
    "    for j in range(i*i+1, (i+1)*(i+1)):\n",
    "        if (i*i*i*i % j == 0):\n",
    "            ans.append(i)\n",
    "            break\n",
    "print (ans)"
   ]
  },
  {
   "cell_type": "markdown",
   "metadata": {},
   "source": [
    "# Goverment Datas"
   ]
  },
  {
   "cell_type": "code",
   "execution_count": 278,
   "metadata": {
    "ExecuteTime": {
     "end_time": "2018-08-03T11:24:17.446376Z",
     "start_time": "2018-08-03T11:24:17.436714Z"
    }
   },
   "outputs": [],
   "source": [
    "from lxml import etree\n",
    "import requests, re\n",
    "from bs4 import BeautifulSoup\n",
    "headers = {\n",
    "    'User-Agent':'Mozilla/5.0 (Windows; U; Windows NT 6.1; en-US; rv:1.9.1.6) Gecko/20091201 Firefox/3.5.6'\n",
    "}"
   ]
  },
  {
   "cell_type": "markdown",
   "metadata": {
    "ExecuteTime": {
     "end_time": "2018-08-03T03:39:31.427400Z",
     "start_time": "2018-08-03T03:39:31.421117Z"
    }
   },
   "source": [
    "## ShangWuBu"
   ]
  },
  {
   "cell_type": "markdown",
   "metadata": {},
   "source": [
    "### China"
   ]
  },
  {
   "cell_type": "code",
   "execution_count": 299,
   "metadata": {
    "ExecuteTime": {
     "end_time": "2018-08-03T11:32:33.213716Z",
     "start_time": "2018-08-03T11:32:33.190595Z"
    }
   },
   "outputs": [],
   "source": [
    "def get_swb_china():\n",
    "    \n",
    "    base_url = 'http://www.mofcom.gov.cn'\n",
    "    response = requests.get(base_url + '/article/zhengcejd/', headers=headers)\n",
    "    text = str(response.content, 'utf-8')\n",
    "    html = etree.HTML(text)\n",
    "    xpath = '//*[@id=\"wrap\"]/div[2]/div/div[1]/div[2]/ul/li/a[1]/text()'\n",
    "    titles = html.xpath(xpath)\n",
    "    # print (titles)\n",
    "    xpath = '//*[@id=\"wrap\"]/div[2]/div/div[1]/div[2]/ul/li/a[1]/@href'\n",
    "    links = html.xpath(xpath)\n",
    "    # print (links)\n",
    "    xpath = '//*[@id=\"wrap\"]/div[2]/div/div[1]/div[2]/ul/li/span/text()'\n",
    "    dates = html.xpath(xpath)\n",
    "    # print (dates)\n",
    "\n",
    "    data_china = [ (t, l, d, 'china') for (t, l, d) in zip(titles, links, dates) ]\n",
    "\n",
    "    print (len(titles), len(links), len(dates), len(data_china))\n",
    "\n",
    "    response = requests.get(base_url + '/article/b/', headers=headers)\n",
    "    text = str(response.content, 'utf-8')\n",
    "    html = etree.HTML(text)\n",
    "    xpath = '//*[@id=\"wrap\"]/div[2]/div/div[1]/div[2]/ul/li/a/text()'\n",
    "    titles = html.xpath(xpath)\n",
    "    xpath = '//*[@id=\"wrap\"]/div[2]/div/div[1]/div[2]/ul/li/a/@href'\n",
    "    links = html.xpath(xpath)\n",
    "    links = [ base_url + str(x) for x in links]\n",
    "    xpath = '//*[@id=\"wrap\"]/div[2]/div/div[1]/div[2]/ul/li/span/text()'\n",
    "    dates = html.xpath(xpath)\n",
    "\n",
    "    data_china = data_china + [ (t, l, d, 'china') for t, l, d in zip(titles, links, dates) ]\n",
    "\n",
    "    dict_china = [{'pos':x[3], 'title': x[0], 'link': x[1], 'date': x[2]} for x in data_china]\n",
    "  \n",
    "    print (len(dict_china))\n",
    "\n",
    "    return dict_china"
   ]
  },
  {
   "cell_type": "markdown",
   "metadata": {
    "ExecuteTime": {
     "end_time": "2018-08-03T03:39:51.363515Z",
     "start_time": "2018-08-03T03:39:51.354055Z"
    }
   },
   "source": [
    "### JiangSu"
   ]
  },
  {
   "cell_type": "code",
   "execution_count": 298,
   "metadata": {
    "ExecuteTime": {
     "end_time": "2018-08-03T11:32:32.067907Z",
     "start_time": "2018-08-03T11:32:32.050046Z"
    }
   },
   "outputs": [],
   "source": [
    "def get_swb_jiangsu():\n",
    "    base_url = 'http://swt.jiangsu.gov.cn'\n",
    "    response = requests.get(base_url + '/col/col12660/index.html', headers=headers)\n",
    "    text = str(response.content, 'utf-8')\n",
    "    # print (text)\n",
    "    regex = re.compile('<a href=\"(.*)\" target=\"_blank\">(.*)</a><span style=\".*\"> \\((.*)\\)</span>')\n",
    "\n",
    "    data_jiangsu = [(x[1], base_url+x[0], x[2].replace('/', '-'), 'jiangsu') for x in re.findall(pattern=regex, string=text)]\n",
    "    \n",
    "    dict_jiangsu = [{'pos':x[3], 'title': x[0], 'link': x[1], 'date': x[2]} for x in data_jiangsu]\n",
    "    \n",
    "    print (len(dict_jiangsu))\n",
    "\n",
    "    return dict_jiangsu"
   ]
  },
  {
   "cell_type": "markdown",
   "metadata": {},
   "source": [
    "## ZheJiang"
   ]
  },
  {
   "cell_type": "code",
   "execution_count": 297,
   "metadata": {
    "ExecuteTime": {
     "end_time": "2018-08-03T11:32:30.487568Z",
     "start_time": "2018-08-03T11:32:30.474013Z"
    }
   },
   "outputs": [],
   "source": [
    "def get_swb_zhejiang():\n",
    "    base_url = 'http://zhejiang.mofcom.gov.cn'\n",
    "    response = requests.get(base_url + '/article/sjtongzhigg', headers=headers)\n",
    "    text = str(response.content, 'utf-8')\n",
    "    html = etree.HTML(text)\n",
    "    xpath = '//*[@id=\"main\"]/div[2]/div/ul/li/a/text()'\n",
    "    titles = html.xpath(xpath)\n",
    "    xpath = '//*[@id=\"main\"]/div[2]/div/ul/li/a/@href'\n",
    "    links = html.xpath(xpath)\n",
    "    links = [ base_url + str(x) for x in links]\n",
    "    xpath = '//*[@id=\"main\"]/div[2]/div/ul/li/span/text()'\n",
    "    dates = html.xpath(xpath)\n",
    "    dates = [x.split()[0] for x in dates]\n",
    "\n",
    "    data_zhejiang = [ (t, l, d, 'zhejiang') for t, l, d in zip(titles, links, dates) ]\n",
    "    \n",
    "    dict_zhejiang = [{'pos':x[3], 'title': x[0], 'link': x[1], 'date': x[2]} for x in data_zhejiang]\n",
    "    \n",
    "    print (len(dict_zhejiang))\n",
    "\n",
    "    return dict_zhejiang"
   ]
  },
  {
   "cell_type": "markdown",
   "metadata": {},
   "source": [
    "## GuangDong"
   ]
  },
  {
   "cell_type": "code",
   "execution_count": 300,
   "metadata": {
    "ExecuteTime": {
     "end_time": "2018-08-03T11:32:45.690339Z",
     "start_time": "2018-08-03T11:32:45.676666Z"
    }
   },
   "outputs": [],
   "source": [
    "def get_swb_guangdong():\n",
    "    base_url = 'http://www.gdcom.gov.cn/zwgk/zcwj/'\n",
    "    response = requests.get(base_url, headers=headers)\n",
    "\n",
    "    text = str(response.content, 'utf-8')\n",
    "    html = etree.HTML(text)\n",
    "    xpath = '/html/body/div[2]/div/div[2]/ul/li/a/text()'\n",
    "    titles = html.xpath(xpath)\n",
    "    xpath = '/html/body/div[2]/div/div[2]/ul/li/a/@href'\n",
    "    links = html.xpath(xpath)\n",
    "    links = [ base_url + str(x) for x in links]\n",
    "    xpath = '/html/body/div[2]/div/div[2]/ul/li/span/text()'\n",
    "    dates = html.xpath(xpath)\n",
    "    \n",
    "    data_guangdong = [ (t, l, d, 'guangdong') for t, l, d in zip(titles, links, dates) ]\n",
    "        \n",
    "    dict_guangdong = [{'pos':x[3], 'title': x[0], 'link': x[1], 'date': x[2]} for x in data_guangdong]\n",
    "    \n",
    "    print (len(dict_guangdong))\n",
    "\n",
    "    return dict_guangdong"
   ]
  },
  {
   "cell_type": "markdown",
   "metadata": {},
   "source": [
    "## Test Mysql"
   ]
  },
  {
   "cell_type": "markdown",
   "metadata": {},
   "source": [
    "## Mysql Template"
   ]
  },
  {
   "cell_type": "code",
   "execution_count": 226,
   "metadata": {
    "ExecuteTime": {
     "end_time": "2018-08-03T08:31:49.923866Z",
     "start_time": "2018-08-03T08:31:49.604676Z"
    }
   },
   "outputs": [],
   "source": [
    "import pymysql\n",
    "db = pymysql.connect(host='119.29.190.115', user='impulse', password='njuacmicpc', port=3306)\n",
    "cursor = db.cursor()"
   ]
  },
  {
   "cell_type": "code",
   "execution_count": 301,
   "metadata": {
    "ExecuteTime": {
     "end_time": "2018-08-03T11:35:10.743269Z",
     "start_time": "2018-08-03T11:35:10.740185Z"
    }
   },
   "outputs": [],
   "source": [
    "def create_db(cursor, name):\n",
    "    sql = 'create database {name} default character set utf8'.format(name=name)\n",
    "    cursor.execute(sql)"
   ]
  },
  {
   "cell_type": "code",
   "execution_count": 265,
   "metadata": {
    "ExecuteTime": {
     "end_time": "2018-08-03T09:12:22.460653Z",
     "start_time": "2018-08-03T09:12:22.112827Z"
    }
   },
   "outputs": [],
   "source": [
    "# Create table!!!\n",
    "import pymysql\n",
    "db = pymysql.connect(host='119.29.190.115', user='impulse', password='njuacmicpc', port=3306, db='gov')\n",
    "cursor = db.cursor()\n",
    "sql = 'create table if not exists swb (pos VARCHAR(32), title VARCHAR(512), link VARCHAR(512), date VARCHAR(64), PRIMARY KEY (link))'\n",
    "cursor.execute(sql)\n",
    "db.close()"
   ]
  },
  {
   "cell_type": "code",
   "execution_count": 289,
   "metadata": {
    "ExecuteTime": {
     "end_time": "2018-08-03T11:29:30.060261Z",
     "start_time": "2018-08-03T11:29:30.054651Z"
    }
   },
   "outputs": [],
   "source": [
    "def sql_insert(cursor, table, data):\n",
    "    keys = ', '.join(data.keys())\n",
    "    values = ', '.join(['%s'] * len(data))\n",
    "    sql = 'insert into {table}({keys}) values ({values}) on duplicate key update'.format(table=table, \n",
    "            keys=keys, values=values)\n",
    "    update = ','.join([\" {key} = %s\".format(key=key) for key in data])\n",
    "    sql += update\n",
    "    #print (sql)\n",
    "    try:\n",
    "        if cursor.execute(sql, tuple(data.values())*2):\n",
    "            print('Successful')\n",
    "            db.commit()\n",
    "        else:\n",
    "            print ('Nothing to do')\n",
    "    except:\n",
    "        print ('Failed')\n",
    "        db.rollback()"
   ]
  },
  {
   "cell_type": "code",
   "execution_count": 292,
   "metadata": {
    "ExecuteTime": {
     "end_time": "2018-08-03T11:31:45.492486Z",
     "start_time": "2018-08-03T11:31:37.528717Z"
    }
   },
   "outputs": [
    {
     "name": "stdout",
     "output_type": "stream",
     "text": [
      "24 24 24 24\n",
      "31 31 31 55\n",
      "Nothing to do\n",
      "Nothing to do\n",
      "Nothing to do\n",
      "Nothing to do\n",
      "Nothing to do\n",
      "Nothing to do\n",
      "Nothing to do\n",
      "Nothing to do\n",
      "Nothing to do\n",
      "Nothing to do\n",
      "Nothing to do\n",
      "Nothing to do\n",
      "Nothing to do\n",
      "Nothing to do\n",
      "Nothing to do\n",
      "Nothing to do\n",
      "Nothing to do\n",
      "Nothing to do\n",
      "Nothing to do\n",
      "Nothing to do\n",
      "Nothing to do\n",
      "Nothing to do\n",
      "Nothing to do\n",
      "Nothing to do\n",
      "Nothing to do\n",
      "Nothing to do\n",
      "Nothing to do\n",
      "Nothing to do\n",
      "Nothing to do\n",
      "Nothing to do\n",
      "Nothing to do\n",
      "Nothing to do\n",
      "Nothing to do\n",
      "Nothing to do\n",
      "Nothing to do\n",
      "Nothing to do\n",
      "Nothing to do\n",
      "Nothing to do\n",
      "Nothing to do\n",
      "Nothing to do\n",
      "Nothing to do\n",
      "Nothing to do\n",
      "Nothing to do\n",
      "Nothing to do\n",
      "Nothing to do\n",
      "Nothing to do\n",
      "Nothing to do\n",
      "Nothing to do\n",
      "Nothing to do\n",
      "Nothing to do\n",
      "Nothing to do\n",
      "Nothing to do\n",
      "Nothing to do\n",
      "Nothing to do\n",
      "Nothing to do\n",
      "60\n",
      "Nothing to do\n",
      "Nothing to do\n",
      "Nothing to do\n",
      "Nothing to do\n",
      "Nothing to do\n",
      "Nothing to do\n",
      "Nothing to do\n",
      "Nothing to do\n",
      "Nothing to do\n",
      "Nothing to do\n",
      "Nothing to do\n",
      "Nothing to do\n",
      "Nothing to do\n",
      "Nothing to do\n",
      "Nothing to do\n",
      "Nothing to do\n",
      "Nothing to do\n",
      "Nothing to do\n",
      "Nothing to do\n",
      "Nothing to do\n",
      "Nothing to do\n",
      "Nothing to do\n",
      "Nothing to do\n",
      "Nothing to do\n",
      "Nothing to do\n",
      "Nothing to do\n",
      "Nothing to do\n",
      "Nothing to do\n",
      "Nothing to do\n",
      "Nothing to do\n",
      "Nothing to do\n",
      "Nothing to do\n",
      "Nothing to do\n",
      "Nothing to do\n",
      "Nothing to do\n",
      "Nothing to do\n",
      "Nothing to do\n",
      "Nothing to do\n",
      "Nothing to do\n",
      "Nothing to do\n",
      "Nothing to do\n",
      "Nothing to do\n",
      "Nothing to do\n",
      "Nothing to do\n",
      "Nothing to do\n",
      "Nothing to do\n",
      "Nothing to do\n",
      "Nothing to do\n",
      "Nothing to do\n",
      "Nothing to do\n",
      "Nothing to do\n",
      "Nothing to do\n",
      "Nothing to do\n",
      "Nothing to do\n",
      "Nothing to do\n",
      "Nothing to do\n",
      "Nothing to do\n",
      "Nothing to do\n",
      "Nothing to do\n",
      "Nothing to do\n",
      "16 16 16 16\n",
      "Nothing to do\n",
      "Nothing to do\n",
      "Nothing to do\n",
      "Nothing to do\n",
      "Nothing to do\n",
      "Nothing to do\n",
      "Nothing to do\n",
      "Nothing to do\n",
      "Nothing to do\n",
      "Nothing to do\n",
      "Nothing to do\n",
      "Nothing to do\n",
      "Nothing to do\n",
      "Nothing to do\n",
      "Nothing to do\n",
      "Nothing to do\n",
      "200\n",
      "15 15 15 15\n",
      "Nothing to do\n",
      "Nothing to do\n",
      "Nothing to do\n",
      "Nothing to do\n",
      "Nothing to do\n",
      "Nothing to do\n",
      "Nothing to do\n",
      "Nothing to do\n",
      "Nothing to do\n",
      "Nothing to do\n",
      "Nothing to do\n",
      "Nothing to do\n",
      "Nothing to do\n",
      "Nothing to do\n",
      "Nothing to do\n"
     ]
    }
   ],
   "source": [
    "db = pymysql.connect(host='119.29.190.115', user='impulse', password='njuacmicpc', port=3306, db='gov')\n",
    "cursor = db.cursor()\n",
    "for dic in get_swb_china():\n",
    "    sql_insert(cursor=cursor,data=dic,table='swb')\n",
    "for dic in get_swb_jiangsu():\n",
    "    sql_insert(cursor=cursor,data=dic,table='swb')\n",
    "for dic in get_swb_zhejiang():\n",
    "    sql_insert(cursor=cursor,data=dic,table='swb')\n",
    "for dic in get_swb_guangdong():\n",
    "    sql_insert(cursor=cursor,data=dic,table='swb')\n",
    "db.close()"
   ]
  }
 ],
 "metadata": {
  "kernelspec": {
   "display_name": "Python 3",
   "language": "python",
   "name": "python3"
  },
  "language_info": {
   "codemirror_mode": {
    "name": "ipython",
    "version": 3
   },
   "file_extension": ".py",
   "mimetype": "text/x-python",
   "name": "python",
   "nbconvert_exporter": "python",
   "pygments_lexer": "ipython3",
   "version": "3.6.5"
  },
  "varInspector": {
   "cols": {
    "lenName": 16,
    "lenType": 16,
    "lenVar": 40
   },
   "kernels_config": {
    "python": {
     "delete_cmd_postfix": "",
     "delete_cmd_prefix": "del ",
     "library": "var_list.py",
     "varRefreshCmd": "print(var_dic_list())"
    },
    "r": {
     "delete_cmd_postfix": ") ",
     "delete_cmd_prefix": "rm(",
     "library": "var_list.r",
     "varRefreshCmd": "cat(var_dic_list()) "
    }
   },
   "types_to_exclude": [
    "module",
    "function",
    "builtin_function_or_method",
    "instance",
    "_Feature"
   ],
   "window_display": false
  }
 },
 "nbformat": 4,
 "nbformat_minor": 2
}
